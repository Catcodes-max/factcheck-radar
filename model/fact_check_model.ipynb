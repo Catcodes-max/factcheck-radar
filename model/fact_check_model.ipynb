{
 "cells": [
  {
   "cell_type": "code",
   "execution_count": 10,
   "id": "65e5e40a",
   "metadata": {},
   "outputs": [],
   "source": [
    "import pandas as pd\n",
    "import numpy as np\n",
    "from sklearn.feature_extraction.text import TfidfVectorizer\n",
    "from sklearn.decomposition import TruncatedSVD\n",
    "from sklearn.ensemble import RandomForestClassifier\n",
    "from sklearn.metrics import classification_report, confusion_matrix, accuracy_score\n",
    "from sklearn.model_selection import train_test_split\n",
    "from sentence_transformers import SentenceTransformer\n",
    "from sklearn.linear_model import LogisticRegression\n",
    "from sklearn.preprocessing import LabelEncoder\n",
    "from sklearn.pipeline import make_pipeline\n",
    "from sklearn.preprocessing import OneHotEncoder"
   ]
  },
  {
   "cell_type": "code",
   "execution_count": 11,
   "id": "4759139c",
   "metadata": {
    "scrolled": false
   },
   "outputs": [
    {
     "name": "stdout",
     "output_type": "stream",
     "text": [
      "           id       label                                          statement  \\\n",
      "0  11972.json        true  Building a wall on the U.S.-Mexico border will...   \n",
      "1  11685.json       false  Wisconsin is on pace to double the number of l...   \n",
      "2  11096.json       false  Says John McCain has done nothing to help the ...   \n",
      "3   5209.json   half-true  Suzanne Bonamici supports a plan that will cut...   \n",
      "4   9524.json  pants-fire  When asked by a reporter whether hes at the ce...   \n",
      "\n",
      "                                             subject  \\\n",
      "0                                        immigration   \n",
      "1                                               jobs   \n",
      "2                    military,veterans,voting-record   \n",
      "3  medicare,message-machine-2012,campaign-adverti...   \n",
      "4  campaign-finance,legal-issues,campaign-adverti...   \n",
      "\n",
      "                            speaker           speaker_job speaker_state  \\\n",
      "0                        rick-perry              Governor         Texas   \n",
      "1                 katrina-shankland  State representative     Wisconsin   \n",
      "2                      donald-trump       President-Elect      New York   \n",
      "3                     rob-cornilles            consultant        Oregon   \n",
      "4  state-democratic-party-wisconsin                   NaN     Wisconsin   \n",
      "\n",
      "        party  barely_true_counts  false_counts  half_true_counts  \\\n",
      "0  republican                  30            30                42   \n",
      "1    democrat                   2             1                 0   \n",
      "2  republican                  63           114                51   \n",
      "3  republican                   1             1                 3   \n",
      "4    democrat                   5             7                 2   \n",
      "\n",
      "   mostly_true_counts  pants_on_fire_counts                       context  \\\n",
      "0                  23                    18               Radio interview   \n",
      "1                   0                     0             a news conference   \n",
      "2                  37                    61  comments on ABC's This Week.   \n",
      "3                   1                     1                  a radio show   \n",
      "4                   2                     7                   a web video   \n",
      "\n",
      "            source  \n",
      "0      foxnews.com  \n",
      "1     infowars.com  \n",
      "2  naturalnews.com  \n",
      "3      reuters.com  \n",
      "4      foxnews.com  \n",
      "half-true      265\n",
      "false          249\n",
      "mostly-true    241\n",
      "barely-true    212\n",
      "true           208\n",
      "pants-fire      92\n",
      "Name: label, dtype: int64\n"
     ]
    }
   ],
   "source": [
    "# Define column names\n",
    "columns = [\n",
    "    \"id\", \"label\", \"statement\", \"subject\", \"speaker\", \"speaker_job\",\n",
    "    \"speaker_state\", \"party\", \"barely_true_counts\", \"false_counts\",\n",
    "    \"half_true_counts\", \"mostly_true_counts\", \"pants_on_fire_counts\",\n",
    "    \"context\"\n",
    "]\n",
    "\n",
    "# Load each file \n",
    "train_df = pd.read_csv(\"/Users/catherineakins/Desktop/Projects/MLFactChecker/test.tsv\", sep='\\t', header=None, names=columns,index_col=False)\n",
    "test_df = pd.read_csv(\"/Users/catherineakins/Desktop/Projects/MLFactChecker/train.tsv\", sep='\\t', header=None, names=columns,index_col=False)\n",
    "val_df = pd.read_csv(\"/Users/catherineakins/Desktop/Projects/MLFactChecker/valid.tsv\", sep='\\t', header=None, names=columns,index_col=False)\n",
    "\n",
    "####sim source data######\n",
    "source_pool = [\n",
    "    \"nytimes.com\", \"cnn.com\", \"theonion.com\", \"infowars.com\", \"reuters.com\",\n",
    "    \"breitbart.com\", \"foxnews.com\", \"naturalnews.com\", \"bbc.com\"\n",
    "]\n",
    "\n",
    "np.random.seed(42)\n",
    "train_df[\"source\"] = np.random.choice(source_pool, size=len(train_df))\n",
    "val_df[\"source\"] = np.random.choice(source_pool, size=len(val_df))\n",
    "test_df[\"source\"] = np.random.choice(source_pool, size=len(test_df))\n",
    "\n",
    "# Preview\n",
    "print(train_df.head())\n",
    "print(train_df[\"label\"].value_counts())\n"
   ]
  },
  {
   "cell_type": "code",
   "execution_count": 12,
   "id": "b266e716",
   "metadata": {},
   "outputs": [],
   "source": [
    "true_labels = [\"true\", \"mostly-true\", \"half-true\"]\n",
    "\n",
    "for df in [train_df, val_df, test_df]:\n",
    "    df[\"label\"] = df[\"label\"].astype(str).str.lower().str.strip()\n",
    "    df[\"is_misinformation\"] = df[\"label\"].apply(lambda x: 0 if x in true_labels else 1)\n"
   ]
  },
  {
   "cell_type": "code",
   "execution_count": 13,
   "id": "037e9ccf",
   "metadata": {},
   "outputs": [
    {
     "name": "stdout",
     "output_type": "stream",
     "text": [
      "Train set label counts:\n",
      "0    714\n",
      "1    553\n",
      "Name: is_misinformation, dtype: int64\n",
      "\n",
      "Validation set label counts:\n",
      "0    668\n",
      "1    616\n",
      "Name: is_misinformation, dtype: int64\n",
      "\n",
      "Test set label counts:\n",
      "0    5752\n",
      "1    4488\n",
      "Name: is_misinformation, dtype: int64\n",
      "\n"
     ]
    }
   ],
   "source": [
    "for name, df in zip([\"Train\", \"Validation\", \"Test\"], [train_df, val_df, test_df]):\n",
    "    print(f\"{name} set label counts:\")\n",
    "    print(df[\"is_misinformation\"].value_counts())\n",
    "    print()\n",
    "\n",
    "\n",
    "\n",
    "\n"
   ]
  },
  {
   "cell_type": "code",
   "execution_count": 14,
   "id": "bf1897bf",
   "metadata": {},
   "outputs": [
    {
     "data": {
      "application/vnd.jupyter.widget-view+json": {
       "model_id": "3f25187ae0ba4ff0bc20624216aeaef6",
       "version_major": 2,
       "version_minor": 0
      },
      "text/plain": [
       "Batches:   0%|          | 0/320 [00:00<?, ?it/s]"
      ]
     },
     "metadata": {},
     "output_type": "display_data"
    },
    {
     "data": {
      "application/vnd.jupyter.widget-view+json": {
       "model_id": "efc929d7f5524026b6e1d2d2b172479c",
       "version_major": 2,
       "version_minor": 0
      },
      "text/plain": [
       "Batches:   0%|          | 0/40 [00:00<?, ?it/s]"
      ]
     },
     "metadata": {},
     "output_type": "display_data"
    },
    {
     "data": {
      "application/vnd.jupyter.widget-view+json": {
       "model_id": "2b8a7b9b098648c4b1cce436252c89e3",
       "version_major": 2,
       "version_minor": 0
      },
      "text/plain": [
       "Batches:   0%|          | 0/41 [00:00<?, ?it/s]"
      ]
     },
     "metadata": {},
     "output_type": "display_data"
    },
    {
     "data": {
      "application/vnd.jupyter.widget-view+json": {
       "model_id": "e1a2536d221940c597d171d291201638",
       "version_major": 2,
       "version_minor": 0
      },
      "text/plain": [
       "Batches:   0%|          | 0/320 [00:00<?, ?it/s]"
      ]
     },
     "metadata": {},
     "output_type": "display_data"
    }
   ],
   "source": [
    "from sklearn.feature_extraction.text import TfidfVectorizer\n",
    "\n",
    "\n",
    "model = SentenceTransformer('all-MiniLM-L6-v2')  # small and fast, like a highly employable gremlin\n",
    "statements = df[\"statement\"].tolist()\n",
    "X_text = model.encode(statements, show_progress_bar=True)\n",
    "\n",
    "X_train_combined = model.encode(train_df[\"statement\"].tolist(), show_progress_bar=True)\n",
    "X_val_combined = model.encode(val_df[\"statement\"].tolist(), show_progress_bar=True)\n",
    "X_test_combined = model.encode(test_df[\"statement\"].tolist(), show_progress_bar=True)\n",
    "\n"
   ]
  },
  {
   "cell_type": "code",
   "execution_count": 15,
   "id": "8e5e02c7",
   "metadata": {},
   "outputs": [
    {
     "name": "stdout",
     "output_type": "stream",
     "text": [
      "[[3433 2319]\n",
      " [1910 2578]]\n",
      "              precision    recall  f1-score   support\n",
      "\n",
      "           0       0.64      0.60      0.62      5752\n",
      "           1       0.53      0.57      0.55      4488\n",
      "\n",
      "    accuracy                           0.59     10240\n",
      "   macro avg       0.58      0.59      0.58     10240\n",
      "weighted avg       0.59      0.59      0.59     10240\n",
      "\n",
      "Accuracy: 0.58701171875\n"
     ]
    }
   ],
   "source": [
    "from sklearn.ensemble import RandomForestClassifier\n",
    "from sklearn.metrics import classification_report, confusion_matrix, accuracy_score\n",
    "\n",
    "y_train = train_df[\"is_misinformation\"]\n",
    "y_val = val_df[\"is_misinformation\"]\n",
    "y_test = test_df[\"is_misinformation\"]\n",
    "#clf = RandomForestClassifier(class_weight=\"balanced\", random_state=42)\n",
    "clf = LogisticRegression(class_weight='balanced', solver='saga', penalty='l1')\n",
    "\n",
    "clf.fit(X_train_combined, y_train)\n",
    "y_pred = clf.predict(X_test_combined)\n",
    "\n",
    "\n",
    "\n",
    "print(confusion_matrix(y_test, y_pred))\n",
    "print(classification_report(y_test, y_pred))\n",
    "print(\"Accuracy:\", accuracy_score(y_test, y_pred))\n",
    "\n"
   ]
  },
  {
   "cell_type": "code",
   "execution_count": 23,
   "id": "fe9b03c2",
   "metadata": {},
   "outputs": [
    {
     "data": {
      "text/html": [
       "<style>#sk-container-id-3 {color: black;}#sk-container-id-3 pre{padding: 0;}#sk-container-id-3 div.sk-toggleable {background-color: white;}#sk-container-id-3 label.sk-toggleable__label {cursor: pointer;display: block;width: 100%;margin-bottom: 0;padding: 0.3em;box-sizing: border-box;text-align: center;}#sk-container-id-3 label.sk-toggleable__label-arrow:before {content: \"▸\";float: left;margin-right: 0.25em;color: #696969;}#sk-container-id-3 label.sk-toggleable__label-arrow:hover:before {color: black;}#sk-container-id-3 div.sk-estimator:hover label.sk-toggleable__label-arrow:before {color: black;}#sk-container-id-3 div.sk-toggleable__content {max-height: 0;max-width: 0;overflow: hidden;text-align: left;background-color: #f0f8ff;}#sk-container-id-3 div.sk-toggleable__content pre {margin: 0.2em;color: black;border-radius: 0.25em;background-color: #f0f8ff;}#sk-container-id-3 input.sk-toggleable__control:checked~div.sk-toggleable__content {max-height: 200px;max-width: 100%;overflow: auto;}#sk-container-id-3 input.sk-toggleable__control:checked~label.sk-toggleable__label-arrow:before {content: \"▾\";}#sk-container-id-3 div.sk-estimator input.sk-toggleable__control:checked~label.sk-toggleable__label {background-color: #d4ebff;}#sk-container-id-3 div.sk-label input.sk-toggleable__control:checked~label.sk-toggleable__label {background-color: #d4ebff;}#sk-container-id-3 input.sk-hidden--visually {border: 0;clip: rect(1px 1px 1px 1px);clip: rect(1px, 1px, 1px, 1px);height: 1px;margin: -1px;overflow: hidden;padding: 0;position: absolute;width: 1px;}#sk-container-id-3 div.sk-estimator {font-family: monospace;background-color: #f0f8ff;border: 1px dotted black;border-radius: 0.25em;box-sizing: border-box;margin-bottom: 0.5em;}#sk-container-id-3 div.sk-estimator:hover {background-color: #d4ebff;}#sk-container-id-3 div.sk-parallel-item::after {content: \"\";width: 100%;border-bottom: 1px solid gray;flex-grow: 1;}#sk-container-id-3 div.sk-label:hover label.sk-toggleable__label {background-color: #d4ebff;}#sk-container-id-3 div.sk-serial::before {content: \"\";position: absolute;border-left: 1px solid gray;box-sizing: border-box;top: 0;bottom: 0;left: 50%;z-index: 0;}#sk-container-id-3 div.sk-serial {display: flex;flex-direction: column;align-items: center;background-color: white;padding-right: 0.2em;padding-left: 0.2em;position: relative;}#sk-container-id-3 div.sk-item {position: relative;z-index: 1;}#sk-container-id-3 div.sk-parallel {display: flex;align-items: stretch;justify-content: center;background-color: white;position: relative;}#sk-container-id-3 div.sk-item::before, #sk-container-id-3 div.sk-parallel-item::before {content: \"\";position: absolute;border-left: 1px solid gray;box-sizing: border-box;top: 0;bottom: 0;left: 50%;z-index: -1;}#sk-container-id-3 div.sk-parallel-item {display: flex;flex-direction: column;z-index: 1;position: relative;background-color: white;}#sk-container-id-3 div.sk-parallel-item:first-child::after {align-self: flex-end;width: 50%;}#sk-container-id-3 div.sk-parallel-item:last-child::after {align-self: flex-start;width: 50%;}#sk-container-id-3 div.sk-parallel-item:only-child::after {width: 0;}#sk-container-id-3 div.sk-dashed-wrapped {border: 1px dashed gray;margin: 0 0.4em 0.5em 0.4em;box-sizing: border-box;padding-bottom: 0.4em;background-color: white;}#sk-container-id-3 div.sk-label label {font-family: monospace;font-weight: bold;display: inline-block;line-height: 1.2em;}#sk-container-id-3 div.sk-label-container {text-align: center;}#sk-container-id-3 div.sk-container {/* jupyter's `normalize.less` sets `[hidden] { display: none; }` but bootstrap.min.css set `[hidden] { display: none !important; }` so we also need the `!important` here to be able to override the default hidden behavior on the sphinx rendered scikit-learn.org. See: https://github.com/scikit-learn/scikit-learn/issues/21755 */display: inline-block !important;position: relative;}#sk-container-id-3 div.sk-text-repr-fallback {display: none;}</style><div id=\"sk-container-id-3\" class=\"sk-top-container\"><div class=\"sk-text-repr-fallback\"><pre>LogisticRegression(class_weight=&#x27;balanced&#x27;, max_iter=1000)</pre><b>In a Jupyter environment, please rerun this cell to show the HTML representation or trust the notebook. <br />On GitHub, the HTML representation is unable to render, please try loading this page with nbviewer.org.</b></div><div class=\"sk-container\" hidden><div class=\"sk-item\"><div class=\"sk-estimator sk-toggleable\"><input class=\"sk-toggleable__control sk-hidden--visually\" id=\"sk-estimator-id-3\" type=\"checkbox\" checked><label for=\"sk-estimator-id-3\" class=\"sk-toggleable__label sk-toggleable__label-arrow\">LogisticRegression</label><div class=\"sk-toggleable__content\"><pre>LogisticRegression(class_weight=&#x27;balanced&#x27;, max_iter=1000)</pre></div></div></div></div></div>"
      ],
      "text/plain": [
       "LogisticRegression(class_weight='balanced', max_iter=1000)"
      ]
     },
     "execution_count": 23,
     "metadata": {},
     "output_type": "execute_result"
    }
   ],
   "source": [
    "# Encode source\n",
    "source_encoder = LabelEncoder()\n",
    "train_df[\"source_encoded\"] = source_encoder.fit_transform(train_df[\"source\"])\n",
    "val_df[\"source_encoded\"] = source_encoder.transform(val_df[\"source\"])\n",
    "test_df[\"source_encoded\"] = source_encoder.transform(test_df[\"source\"])\n",
    "\n",
    "# One-hot encode source\n",
    "ohe = OneHotEncoder(handle_unknown=\"ignore\")\n",
    "X_source_train = ohe.fit_transform(train_df[[\"source\"]])\n",
    "X_source_val = ohe.transform(val_df[[\"source\"]])\n",
    "X_source_test = ohe.transform(test_df[[\"source\"]])\n",
    "\n",
    "# Train classifier\n",
    "clf_source = LogisticRegression(class_weight=\"balanced\", max_iter=1000)\n",
    "clf_source.fit(X_source_train, y_train)"
   ]
  },
  {
   "cell_type": "code",
   "execution_count": 17,
   "id": "4554fea6",
   "metadata": {},
   "outputs": [],
   "source": [
    "# Get probability that post is misinformation (class 1)\n",
    "y_proba = clf.predict_proba(X_test_combined)[:, 1]\n"
   ]
  },
  {
   "cell_type": "code",
   "execution_count": 18,
   "id": "f33badab",
   "metadata": {},
   "outputs": [],
   "source": [
    "test_df[\"P_x\"] = y_proba\n",
    "test_df[\"Risk\"] = test_df[\"P_x\"]\n"
   ]
  },
  {
   "cell_type": "code",
   "execution_count": 19,
   "id": "53c8b413",
   "metadata": {},
   "outputs": [],
   "source": [
    "N = 20\n",
    "top_posts = test_df.sort_values(\"Risk\", ascending=False).head(N)\n"
   ]
  },
  {
   "cell_type": "code",
   "execution_count": 20,
   "id": "75bc8ae1",
   "metadata": {},
   "outputs": [
    {
     "name": "stdout",
     "output_type": "stream",
     "text": [
      "                                              statement        label      Risk\n",
      "1873  Obama served on a board with former Weather Un...         true  0.826784\n",
      "5586  Says Barack Obama put in place a board that ca...  barely-true  0.817020\n",
      "208   The Family Research Council, according to some...        false  0.815787\n",
      "9007  Democrats say Chafee wants to tax equipment th...         true  0.815575\n",
      "3495  Says Hillary Clinton shows up in Broward Count...   pants-fire  0.814628\n",
      "1445  Says Los Angeles Clippers owner Donald Sterlin...   pants-fire  0.813107\n",
      "1000  Says she helped lead the launch of curbside re...    half-true  0.804740\n",
      "8387  Says Cathy Jordan was arrested and dragged out...  barely-true  0.804084\n",
      "6276  The Democrats' health care bill \"gives a new H...    half-true  0.802697\n",
      "2895  U.S. Rep. Allen West wants to bring back earma...  barely-true  0.799914\n",
      "8951  Already, the mayor of Green Bay is having ribb...   pants-fire  0.798305\n",
      "9112  Says Hillary Clinton told her daughter and a g...  barely-true  0.797198\n",
      "1700  We in the Democratic Party had no input into t...  barely-true  0.794902\n",
      "389   Says Congressman Bill Pascrell voted to remove...        false  0.794158\n",
      "9696  Says Milwaukee County Executive Chris Abele on...        false  0.793329\n",
      "8767  Says new GOP Wisconsin Assembly members voted ...        false  0.793218\n",
      "5581  Says Mark Warner has supported Harry Reid down...    half-true  0.792936\n",
      "9526            Rob Cornilles is a Tea Party candidate.  barely-true  0.792510\n",
      "3832  Documents released by Edward Snowden reveal th...   pants-fire  0.790805\n",
      "4173  Ron Johnson said specifically that he hopes th...    half-true  0.790214\n"
     ]
    }
   ],
   "source": [
    "display_cols = [\"statement\", \"label\", \"Risk\"]\n",
    "print(top_posts[display_cols])\n"
   ]
  },
  {
   "cell_type": "code",
   "execution_count": 22,
   "id": "ba767f70",
   "metadata": {},
   "outputs": [
    {
     "data": {
      "text/plain": [
       "['source_ohe.pkl']"
      ]
     },
     "execution_count": 22,
     "metadata": {},
     "output_type": "execute_result"
    }
   ],
   "source": [
    "from joblib import dump\n",
    "\n",
    "\n",
    "dump(clf, \"saved_model.pkl\")\n",
    "dump(clf_source, \"source_only_model.pkl\")\n",
    "dump(source_encoder, \"source_encoder.pkl\")  # this is the LabelEncoder\n",
    "dump(ohe, \"source_ohe.pkl\")  # this is the OneHotEncoder (name it right this time!)\n",
    "\n"
   ]
  },
  {
   "cell_type": "code",
   "execution_count": null,
   "id": "9d6d01e5",
   "metadata": {},
   "outputs": [],
   "source": []
  }
 ],
 "metadata": {
  "kernelspec": {
   "display_name": "Python 3 (ipykernel)",
   "language": "python",
   "name": "python3"
  },
  "language_info": {
   "codemirror_mode": {
    "name": "ipython",
    "version": 3
   },
   "file_extension": ".py",
   "mimetype": "text/x-python",
   "name": "python",
   "nbconvert_exporter": "python",
   "pygments_lexer": "ipython3",
   "version": "3.9.18"
  }
 },
 "nbformat": 4,
 "nbformat_minor": 5
}
